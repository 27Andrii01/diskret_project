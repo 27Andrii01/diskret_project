{
 "cells": [
  {
   "cell_type": "code",
   "execution_count": 5,
   "metadata": {},
   "outputs": [],
   "source": [
    "import random\n",
    "import networkx as nx\n",
    "import matplotlib.pyplot as plt\n",
    "import time\n",
    "from itertools import combinations, groupby"
   ]
  },
  {
   "attachments": {},
   "cell_type": "markdown",
   "metadata": {},
   "source": [
    "This block of code generate random graph with certain number of nodes \n",
    "If you call this function with (.edges(data = True)) function return graph and list with vertex that conected and weight of conection "
   ]
  },
  {
   "cell_type": "code",
   "execution_count": 9,
   "metadata": {},
   "outputs": [
    {
     "data": {
      "image/png": "[encoded data removed]",
      "text/plain": [
       "<Figure size 1000x600 with 1 Axes>"
      ]
     },
     "metadata": {},
     "output_type": "display_data"
    }
   ],
   "source": [
    "def gnp_random_connected_graph(num_of_nodes: int,\n",
    "                               completeness: int,\n",
    "                               directed: bool = False,\n",
    "                               draw: bool = False):\n",
    "    \"\"\"\n",
    "    Generates a random graph, similarly to an Erdős-Rényi \n",
    "    graph, but enforcing that the resulting graph is conneted (in case of undirected graphs)\n",
    "    \"\"\"\n",
    "\n",
    "    if directed:\n",
    "        G = nx.DiGraph()\n",
    "    else:\n",
    "        G = nx.Graph()\n",
    "    edges = combinations(range(num_of_nodes), 2)\n",
    "    G.add_nodes_from(range(num_of_nodes))\n",
    "    \n",
    "    for _, node_edges in groupby(edges, key = lambda x: x[0]):\n",
    "        node_edges = list(node_edges)\n",
    "        random_edge = random.choice(node_edges)\n",
    "        if random.random() < 0.5:\n",
    "            random_edge = random_edge[::-1]\n",
    "        G.add_edge(*random_edge)\n",
    "        for e in node_edges:\n",
    "            if random.random() < completeness:\n",
    "                G.add_edge(*e)\n",
    "                \n",
    "    for (u,v,w) in G.edges(data=True):\n",
    "        w['weight'] = random.randint(-5, 20)\n",
    "                \n",
    "    if draw: \n",
    "        plt.figure(figsize=(10,6))\n",
    "        if directed:\n",
    "            # draw with edge weights\n",
    "            pos = nx.arf_layout(G)\n",
    "            nx.draw(G,pos, node_color='lightblue', \n",
    "                    with_labels=True,\n",
    "                    node_size=500, \n",
    "                    arrowsize=20, \n",
    "                    arrows=True)\n",
    "            labels = nx.get_edge_attributes(G,'weight')\n",
    "            nx.draw_networkx_edge_labels(G, pos,edge_labels=labels)\n",
    "            \n",
    "        else:\n",
    "            nx.draw(G, node_color='lightblue', \n",
    "                with_labels=True, \n",
    "                node_size=500)\n",
    "    return G\n",
    "graph_data = gnp_random_connected_graph(10, 1, False, True).edges(data = True)\n"
   ]
  },
  {
   "attachments": {},
   "cell_type": "markdown",
   "metadata": {},
   "source": [
    "This block prepare data from previous function for algorithm in the net function"
   ]
  },
  {
   "cell_type": "code",
   "execution_count": 11,
   "metadata": {},
   "outputs": [],
   "source": [
    "def graph_preparation(graph: list) -> list:\n",
    "    \"\"\"\n",
    "    Function change and sort record of graph from previous function\n",
    "    \"\"\"\n",
    "    true_graph = []\n",
    "    for i in graph:\n",
    "        elem = [i[2][\"weight\"], i[0], i[1]]\n",
    "        true_graph.append(tuple(elem))\n",
    "    true_graph.sort(key=lambda a: a[0])\n",
    "    return true_graph"
   ]
  },
  {
   "attachments": {},
   "cell_type": "markdown",
   "metadata": {},
   "source": [
    "This block of code make kruskals algorithm \n",
    "Find carcass of minimal weight "
   ]
  },
  {
   "cell_type": "code",
   "execution_count": 12,
   "metadata": {},
   "outputs": [
    {
     "name": "stdout",
     "output_type": "stream",
     "text": [
      "[(-5, 1, 5), (-4, 2, 6), (-4, 6, 7), (-4, 7, 9), (-3, 3, 5), (-2, 0, 5), (-2, 6, 8), (0, 4, 5), (-4, 5, 6)]\n"
     ]
    }
   ],
   "source": [
    "def kruskal_algorithm(true_graph: list) -> list:\n",
    "    conected_vertexes = set()\n",
    "    isolated_vertexes = {}\n",
    "    edge = []\n",
    "\n",
    "    for ed in true_graph:\n",
    "        if ed[1] not in conected_vertexes or ed[2] not in conected_vertexes:\n",
    "            if ed[1] not in conected_vertexes and ed[2] not in conected_vertexes:\n",
    "                isolated_vertexes[ed[1]] = [ed[1], ed[2]]\n",
    "                isolated_vertexes[ed[2]] = isolated_vertexes[ed[1]]\n",
    "            else:\n",
    "                if not isolated_vertexes.get(ed[1]):\n",
    "                    isolated_vertexes[ed[2]].append(ed[1])\n",
    "                    isolated_vertexes[ed[1]] = isolated_vertexes[ed[2]]\n",
    "                else:\n",
    "                    isolated_vertexes[ed[1]].append(ed[2])\n",
    "                    isolated_vertexes[ed[2]] = isolated_vertexes[ed[1]]\n",
    "\n",
    "            edge.append(ed)\n",
    "            conected_vertexes.add(ed[1])\n",
    "            conected_vertexes.add(ed[2])\n",
    "\n",
    "    for ed in true_graph:\n",
    "        if ed[2] not in isolated_vertexes[ed[1]]:\n",
    "            edge.append(ed)\n",
    "            gr1 = isolated_vertexes[ed[1]]\n",
    "            isolated_vertexes[ed[1]] += isolated_vertexes[ed[2]]\n",
    "            isolated_vertexes[ed[2]] += gr1\n",
    "    return edge\n",
    "print(kruskal_algorithm(graph_preparation(graph_data)))"
   ]
  },
  {
   "attachments": {},
   "cell_type": "markdown",
   "metadata": {},
   "source": [
    "This block of code return time of the work for algorithm with defferent number of vertex"
   ]
  },
  {
   "cell_type": "code",
   "execution_count": 5,
   "metadata": {},
   "outputs": [
    {
     "name": "stdout",
     "output_type": "stream",
     "text": [
      "10vertex -- 7.605552673339844e-05 sec \n",
      "20vertex -- 0.0006020069122314453 sec \n",
      "50vertex -- 0.0029370784759521484 sec \n",
      "100vertex -- 0.10414910316467285 sec \n",
      "200vertex -- 12.753339052200317 sec \n",
      "my algo_result |\n"
     ]
    }
   ],
   "source": [
    "def time_compare():\n",
    "    \"\"\"\n",
    "    function\n",
    "    \"\"\"\n",
    "    num_vert = [10, 20, 50, 100, 200]\n",
    "    for num in num_vert:\n",
    "        graph_data = gnp_random_connected_graph(num, 1, False, False).edges(data = True)\n",
    "        start_time = time.time()\n",
    "        kruskal_algorithm(graph_preparation(graph_data))\n",
    "        print(f\"{num}vertex -- %s sec \" % (time.time() - start_time))\n",
    "    return \"my algo_result |\"\n",
    "print(time_compare())    "
   ]
  }
 ],
 "metadata": {
  "kernelspec": {
   "display_name": "Python 3",
   "language": "python",
   "name": "python3"
  },
  "language_info": {
   "codemirror_mode": {
    "name": "ipython",
    "version": 3
   },
   "file_extension": ".py",
   "mimetype": "text/x-python",
   "name": "python",
   "nbconvert_exporter": "python",
   "pygments_lexer": "ipython3",
   "version": "3.11.1 (v3.11.1:a7a450f84a, Dec  6 2022, 15:24:06) [Clang 13.0.0 (clang-1300.0.29.30)]"
  },
  "orig_nbformat": 4,
  "vscode": {
   "interpreter": {
    "hash": "aee8b7b246df8f9039afb4144a1f6fd8d2ca17a180786b69acc140d282b71a49"
   }
  }
 },
 "nbformat": 4,
 "nbformat_minor": 2
}
